{
 "cells": [
  {
   "cell_type": "code",
   "execution_count": 8,
   "id": "a3210da4-595a-49c3-b46b-bd8edfea5d3d",
   "metadata": {},
   "outputs": [
    {
     "name": "stdout",
     "output_type": "stream",
     "text": [
      "Requirement already satisfied: mlxtend in c:\\users\\student\\anaconda3\\lib\\site-packages (0.23.3)\n",
      "Requirement already satisfied: scipy>=1.2.1 in c:\\users\\student\\anaconda3\\lib\\site-packages (from mlxtend) (1.11.4)\n",
      "Requirement already satisfied: numpy>=1.16.2 in c:\\users\\student\\anaconda3\\lib\\site-packages (from mlxtend) (1.26.4)\n",
      "Requirement already satisfied: pandas>=0.24.2 in c:\\users\\student\\anaconda3\\lib\\site-packages (from mlxtend) (2.1.4)\n",
      "Requirement already satisfied: scikit-learn>=1.3.1 in c:\\users\\student\\anaconda3\\lib\\site-packages (from mlxtend) (1.6.1)\n",
      "Requirement already satisfied: matplotlib>=3.0.0 in c:\\users\\student\\anaconda3\\lib\\site-packages (from mlxtend) (3.8.0)\n",
      "Requirement already satisfied: joblib>=0.13.2 in c:\\users\\student\\anaconda3\\lib\\site-packages (from mlxtend) (1.2.0)\n",
      "Requirement already satisfied: contourpy>=1.0.1 in c:\\users\\student\\anaconda3\\lib\\site-packages (from matplotlib>=3.0.0->mlxtend) (1.2.0)\n",
      "Requirement already satisfied: cycler>=0.10 in c:\\users\\student\\anaconda3\\lib\\site-packages (from matplotlib>=3.0.0->mlxtend) (0.11.0)\n",
      "Requirement already satisfied: fonttools>=4.22.0 in c:\\users\\student\\anaconda3\\lib\\site-packages (from matplotlib>=3.0.0->mlxtend) (4.25.0)\n",
      "Requirement already satisfied: kiwisolver>=1.0.1 in c:\\users\\student\\anaconda3\\lib\\site-packages (from matplotlib>=3.0.0->mlxtend) (1.4.4)\n",
      "Requirement already satisfied: packaging>=20.0 in c:\\users\\student\\anaconda3\\lib\\site-packages (from matplotlib>=3.0.0->mlxtend) (23.1)\n",
      "Requirement already satisfied: pillow>=6.2.0 in c:\\users\\student\\anaconda3\\lib\\site-packages (from matplotlib>=3.0.0->mlxtend) (10.2.0)\n",
      "Requirement already satisfied: pyparsing>=2.3.1 in c:\\users\\student\\anaconda3\\lib\\site-packages (from matplotlib>=3.0.0->mlxtend) (3.0.9)\n",
      "Requirement already satisfied: python-dateutil>=2.7 in c:\\users\\student\\anaconda3\\lib\\site-packages (from matplotlib>=3.0.0->mlxtend) (2.8.2)\n",
      "Requirement already satisfied: pytz>=2020.1 in c:\\users\\student\\anaconda3\\lib\\site-packages (from pandas>=0.24.2->mlxtend) (2023.3.post1)\n",
      "Requirement already satisfied: tzdata>=2022.1 in c:\\users\\student\\anaconda3\\lib\\site-packages (from pandas>=0.24.2->mlxtend) (2023.3)\n",
      "Requirement already satisfied: threadpoolctl>=3.1.0 in c:\\users\\student\\anaconda3\\lib\\site-packages (from scikit-learn>=1.3.1->mlxtend) (3.5.0)\n",
      "Requirement already satisfied: six>=1.5 in c:\\users\\student\\anaconda3\\lib\\site-packages (from python-dateutil>=2.7->matplotlib>=3.0.0->mlxtend) (1.16.0)\n"
     ]
    }
   ],
   "source": [
    "!pip install mlxtend"
   ]
  },
  {
   "cell_type": "code",
   "execution_count": 9,
   "id": "e4fa513d-70ad-4176-9ea5-f0ba5c3dfb21",
   "metadata": {},
   "outputs": [],
   "source": [
    "from mlxtend.preprocessing import TransactionEncoder"
   ]
  },
  {
   "cell_type": "code",
   "execution_count": 10,
   "id": "d6df2863-c8c6-40b0-911c-897356b489ef",
   "metadata": {},
   "outputs": [],
   "source": [
    "from mlxtend.frequent_patterns import apriori,association_rules\n",
    "import pandas as pd\n",
    "import numpy as np"
   ]
  },
  {
   "cell_type": "code",
   "execution_count": 19,
   "id": "69028018-71c7-46e2-ac2e-832e05ef9884",
   "metadata": {},
   "outputs": [
    {
     "name": "stdout",
     "output_type": "stream",
     "text": [
      "TransactionEncoder()\n",
      "[[ True  True False False  True]\n",
      " [False  True False  True False]\n",
      " [False  True  True False False]\n",
      " [ True  True False  True False]\n",
      " [ True False  True False False]\n",
      " [False  True  True False False]\n",
      " [ True False  True False False]\n",
      " [ True  True  True False  True]\n",
      " [ True  True  True False False]]\n"
     ]
    }
   ],
   "source": [
    "data=[['A','B','E'],['D','B'],['B','C'],['A','B','D'],['A','C'],['B','C'],['A','C'],['A','B','C','E'],['A','B','C']]\n",
    "te=TransactionEncoder()\n",
    "print(te)\n",
    "te_array=te.fit_transform(data)\n",
    "print(te_array)\n"
   ]
  },
  {
   "cell_type": "code",
   "execution_count": 20,
   "id": "8c775698-6a8d-4aec-a7f3-8f74f06a496a",
   "metadata": {},
   "outputs": [
    {
     "name": "stdout",
     "output_type": "stream",
     "text": [
      "       A      B      C      D      E\n",
      "0   True   True  False  False   True\n",
      "1  False   True  False   True  False\n",
      "2  False   True   True  False  False\n",
      "3   True   True  False   True  False\n",
      "4   True  False   True  False  False\n",
      "5  False   True   True  False  False\n",
      "6   True  False   True  False  False\n",
      "7   True   True   True  False   True\n",
      "8   True   True   True  False  False\n"
     ]
    }
   ],
   "source": [
    "\n",
    "df=pd.DataFrame(te_array,columns=te.columns_)\n",
    "print(df)"
   ]
  },
  {
   "cell_type": "code",
   "execution_count": 18,
   "id": "0806b9b1-50e9-48c1-bb6b-f4845de72561",
   "metadata": {},
   "outputs": [
    {
     "name": "stdout",
     "output_type": "stream",
     "text": [
      "     support   itemsets\n",
      "0   0.666667        (A)\n",
      "1   0.777778        (B)\n",
      "2   0.666667        (C)\n",
      "3   0.222222        (D)\n",
      "4   0.222222        (E)\n",
      "5   0.444444     (A, B)\n",
      "6   0.444444     (A, C)\n",
      "7   0.222222     (E, A)\n",
      "8   0.444444     (C, B)\n",
      "9   0.222222     (D, B)\n",
      "10  0.222222     (E, B)\n",
      "11  0.222222  (C, A, B)\n",
      "12  0.222222  (E, A, B)\n"
     ]
    }
   ],
   "source": [
    "frq_items = apriori(df,min_support=0.2222,use_colnames=True)\n",
    "print(frq_items)"
   ]
  },
  {
   "cell_type": "code",
   "execution_count": 24,
   "id": "9af27c77-65e9-465c-9bae-0678913993cf",
   "metadata": {},
   "outputs": [
    {
     "name": "stdout",
     "output_type": "stream",
     "text": [
      "   antecedents consequents   support  confidence\n",
      "0          (A)         (B)  0.444444    0.666667\n",
      "1          (B)         (A)  0.444444    0.571429\n",
      "2          (A)         (C)  0.444444    0.666667\n",
      "3          (C)         (A)  0.444444    0.666667\n",
      "4          (E)         (A)  0.222222    1.000000\n",
      "5          (C)         (B)  0.444444    0.666667\n",
      "6          (B)         (C)  0.444444    0.571429\n",
      "7          (D)         (B)  0.222222    1.000000\n",
      "8          (E)         (B)  0.222222    1.000000\n",
      "9       (A, C)         (B)  0.222222    0.500000\n",
      "10      (B, C)         (A)  0.222222    0.500000\n",
      "11      (A, B)         (C)  0.222222    0.500000\n",
      "12      (E, A)         (B)  0.222222    1.000000\n",
      "13      (E, B)         (A)  0.222222    1.000000\n",
      "14      (A, B)         (E)  0.222222    0.500000\n",
      "15         (E)      (A, B)  0.222222    1.000000\n"
     ]
    }
   ],
   "source": [
    "rules=association_rules(frq_items,metric='confidence',min_threshold=0.5,num_itemsets=3)\n",
    "print(rules[['antecedents' ,'consequents','support','confidence']])"
   ]
  },
  {
   "cell_type": "raw",
   "id": "bcc75a49-985a-43cf-a979-71ce746c316c",
   "metadata": {},
   "source": [
    "Transaction  1)abe\n",
    "2)bd\n",
    "3)bc\n",
    "4)abd\n",
    "5)ac\n",
    "6)bc\n",
    "9)ac\n",
    "7)abce\n",
    "8)abc"
   ]
  },
  {
   "cell_type": "code",
   "execution_count": 25,
   "id": "49ad9f59-e019-40db-880c-0e8f292852b5",
   "metadata": {},
   "outputs": [
    {
     "name": "stdout",
     "output_type": "stream",
     "text": [
      "  antecedents consequents   support  confidence\n",
      "0         (E)         (A)  0.222222         1.0\n",
      "1         (D)         (B)  0.222222         1.0\n",
      "2         (E)         (B)  0.222222         1.0\n",
      "3      (E, A)         (B)  0.222222         1.0\n",
      "4      (E, B)         (A)  0.222222         1.0\n",
      "5         (E)      (A, B)  0.222222         1.0\n"
     ]
    }
   ],
   "source": [
    "rules=association_rules(frq_items,metric='confidence',min_threshold=0.75,num_itemsets=3)\n",
    "print(rules[['antecedents' ,'consequents','support','confidence']])"
   ]
  },
  {
   "cell_type": "markdown",
   "id": "d6b6f39c-103e-46b1-9b13-be59a293f021",
   "metadata": {},
   "source": [
    "# To perform Linear Regression"
   ]
  },
  {
   "cell_type": "code",
   "execution_count": 27,
   "id": "76f3f920-8071-4a0f-a929-cdc4843da2f0",
   "metadata": {},
   "outputs": [
    {
     "name": "stdout",
     "output_type": "stream",
     "text": [
      "Collecting kagglehub\n",
      "  Downloading kagglehub-0.3.6-py3-none-any.whl.metadata (30 kB)\n",
      "Requirement already satisfied: packaging in c:\\users\\student\\anaconda3\\lib\\site-packages (from kagglehub) (23.1)\n",
      "Requirement already satisfied: requests in c:\\users\\student\\anaconda3\\lib\\site-packages (from kagglehub) (2.31.0)\n",
      "Requirement already satisfied: tqdm in c:\\users\\student\\anaconda3\\lib\\site-packages (from kagglehub) (4.65.0)\n",
      "Requirement already satisfied: charset-normalizer<4,>=2 in c:\\users\\student\\anaconda3\\lib\\site-packages (from requests->kagglehub) (2.0.4)\n",
      "Requirement already satisfied: idna<4,>=2.5 in c:\\users\\student\\anaconda3\\lib\\site-packages (from requests->kagglehub) (3.4)\n",
      "Requirement already satisfied: urllib3<3,>=1.21.1 in c:\\users\\student\\anaconda3\\lib\\site-packages (from requests->kagglehub) (2.0.7)\n",
      "Requirement already satisfied: certifi>=2017.4.17 in c:\\users\\student\\anaconda3\\lib\\site-packages (from requests->kagglehub) (2024.2.2)\n",
      "Requirement already satisfied: colorama in c:\\users\\student\\anaconda3\\lib\\site-packages (from tqdm->kagglehub) (0.4.6)\n",
      "Downloading kagglehub-0.3.6-py3-none-any.whl (51 kB)\n",
      "   ---------------------------------------- 0.0/51.9 kB ? eta -:--:--\n",
      "   ---------------------------------------- 51.9/51.9 kB 2.6 MB/s eta 0:00:00\n",
      "Installing collected packages: kagglehub\n",
      "Successfully installed kagglehub-0.3.6\n"
     ]
    }
   ],
   "source": [
    "!pip install kagglehub\n"
   ]
  },
  {
   "cell_type": "code",
   "execution_count": 31,
   "id": "50b69a12-9145-42d3-82d8-2f649567222d",
   "metadata": {},
   "outputs": [
    {
     "name": "stdout",
     "output_type": "stream",
     "text": [
      "     MinTemp  MaxTemp  Rainfall  Evaporation  Sunshine WindGustDir  \\\n",
      "0        8.0     24.3       0.0          3.4       6.3          NW   \n",
      "1       14.0     26.9       3.6          4.4       9.7         ENE   \n",
      "2       13.7     23.4       3.6          5.8       3.3          NW   \n",
      "3       13.3     15.5      39.8          7.2       9.1          NW   \n",
      "4        7.6     16.1       2.8          5.6      10.6         SSE   \n",
      "..       ...      ...       ...          ...       ...         ...   \n",
      "361      9.0     30.7       0.0          7.6      12.1         NNW   \n",
      "362      7.1     28.4       0.0         11.6      12.7           N   \n",
      "363     12.5     19.9       0.0          8.4       5.3         ESE   \n",
      "364     12.5     26.9       0.0          5.0       7.1          NW   \n",
      "365     12.3     30.2       0.0          6.0      12.6          NW   \n",
      "\n",
      "     WindGustSpeed WindDir9am WindDir3pm  WindSpeed9am  ...  Humidity3pm  \\\n",
      "0             30.0         SW         NW           6.0  ...           29   \n",
      "1             39.0          E          W           4.0  ...           36   \n",
      "2             85.0          N        NNE           6.0  ...           69   \n",
      "3             54.0        WNW          W          30.0  ...           56   \n",
      "4             50.0        SSE        ESE          20.0  ...           49   \n",
      "..             ...        ...        ...           ...  ...          ...   \n",
      "361           76.0        SSE         NW           7.0  ...           15   \n",
      "362           48.0        NNW        NNW           2.0  ...           22   \n",
      "363           43.0        ENE        ENE          11.0  ...           47   \n",
      "364           46.0        SSW        WNW           6.0  ...           39   \n",
      "365           78.0         NW        WNW          31.0  ...           13   \n",
      "\n",
      "     Pressure9am  Pressure3pm  Cloud9am  Cloud3pm  Temp9am  Temp3pm  \\\n",
      "0         1019.7       1015.0         7         7     14.4     23.6   \n",
      "1         1012.4       1008.4         5         3     17.5     25.7   \n",
      "2         1009.5       1007.2         8         7     15.4     20.2   \n",
      "3         1005.5       1007.0         2         7     13.5     14.1   \n",
      "4         1018.3       1018.5         7         7     11.1     15.4   \n",
      "..           ...          ...       ...       ...      ...      ...   \n",
      "361       1016.1       1010.8         1         3     20.4     30.0   \n",
      "362       1020.0       1016.9         0         1     17.2     28.2   \n",
      "363       1024.0       1022.8         3         2     14.5     18.3   \n",
      "364       1021.0       1016.2         6         7     15.8     25.9   \n",
      "365       1009.6       1009.2         1         1     23.8     28.6   \n",
      "\n",
      "     RainToday  RISK_MM RainTomorrow  \n",
      "0           No      3.6          Yes  \n",
      "1          Yes      3.6          Yes  \n",
      "2          Yes     39.8          Yes  \n",
      "3          Yes      2.8          Yes  \n",
      "4          Yes      0.0           No  \n",
      "..         ...      ...          ...  \n",
      "361         No      0.0           No  \n",
      "362         No      0.0           No  \n",
      "363         No      0.0           No  \n",
      "364         No      0.0           No  \n",
      "365         No      0.0           No  \n",
      "\n",
      "[366 rows x 22 columns]\n"
     ]
    }
   ],
   "source": [
    "df = pd.read_csv('weather.csv')\n",
    "\n",
    "print(df) "
   ]
  },
  {
   "cell_type": "code",
   "execution_count": null,
   "id": "18000408-63e3-4c56-8253-7ef3e186d501",
   "metadata": {},
   "outputs": [],
   "source": []
  },
  {
   "cell_type": "code",
   "execution_count": null,
   "id": "1f5f0300-8ef5-43be-99d0-2b5f96cc705a",
   "metadata": {},
   "outputs": [],
   "source": []
  },
  {
   "cell_type": "code",
   "execution_count": null,
   "id": "5301d8c0-1017-4ccb-ae84-faa9439cf6db",
   "metadata": {},
   "outputs": [],
   "source": []
  },
  {
   "cell_type": "code",
   "execution_count": null,
   "id": "271fe112-2bd3-4b40-9279-a55ed0f1b882",
   "metadata": {},
   "outputs": [],
   "source": []
  },
  {
   "cell_type": "code",
   "execution_count": null,
   "id": "7bcb4ac5-16bd-44cb-bfe5-61e21fb72e7c",
   "metadata": {},
   "outputs": [],
   "source": []
  },
  {
   "cell_type": "code",
   "execution_count": null,
   "id": "12a6cbab-77f3-4c97-9c57-4f6cb1693544",
   "metadata": {},
   "outputs": [],
   "source": []
  },
  {
   "cell_type": "code",
   "execution_count": null,
   "id": "5c7c02e3-5046-459d-a47a-8ba0b3690ddc",
   "metadata": {},
   "outputs": [],
   "source": []
  },
  {
   "cell_type": "code",
   "execution_count": null,
   "id": "8724caa9-2dd8-4cfd-bd25-7ebffd012b88",
   "metadata": {},
   "outputs": [],
   "source": []
  }
 ],
 "metadata": {
  "kernelspec": {
   "display_name": "Python 3 (ipykernel)",
   "language": "python",
   "name": "python3"
  },
  "language_info": {
   "codemirror_mode": {
    "name": "ipython",
    "version": 3
   },
   "file_extension": ".py",
   "mimetype": "text/x-python",
   "name": "python",
   "nbconvert_exporter": "python",
   "pygments_lexer": "ipython3",
   "version": "3.11.7"
  }
 },
 "nbformat": 4,
 "nbformat_minor": 5
}
