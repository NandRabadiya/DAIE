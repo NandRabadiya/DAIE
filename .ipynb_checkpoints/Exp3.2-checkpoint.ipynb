{
 "cells": [
  {
   "cell_type": "code",
   "execution_count": 2,
   "id": "37e0fcd1-9882-418a-95e1-3d8548dac740",
   "metadata": {},
   "outputs": [],
   "source": [
    "import pandas as pd\n"
   ]
  },
  {
   "cell_type": "code",
   "execution_count": 3,
   "id": "61205dfc-d480-45f3-881d-2f69ff154459",
   "metadata": {},
   "outputs": [],
   "source": [
    "titanic=pd.read_csv('https://calmcode.io/static/data/titanic.csv')"
   ]
  },
  {
   "cell_type": "code",
   "execution_count": 3,
   "id": "23e0d172-f3e3-4cfb-8e2c-9e617cb8dd38",
   "metadata": {},
   "outputs": [
    {
     "name": "stdout",
     "output_type": "stream",
     "text": [
      "     survived  pclass                                               name  \\\n",
      "0           0       3                            Braund, Mr. Owen Harris   \n",
      "1           1       1  Cumings, Mrs. John Bradley (Florence Briggs Th...   \n",
      "2           1       3                             Heikkinen, Miss. Laina   \n",
      "3           1       1       Futrelle, Mrs. Jacques Heath (Lily May Peel)   \n",
      "4           0       3                           Allen, Mr. William Henry   \n",
      "..        ...     ...                                                ...   \n",
      "709         0       3               Rice, Mrs. William (Margaret Norton)   \n",
      "710         0       2                              Montvila, Rev. Juozas   \n",
      "711         1       1                       Graham, Miss. Margaret Edith   \n",
      "712         1       1                              Behr, Mr. Karl Howell   \n",
      "713         0       3                                Dooley, Mr. Patrick   \n",
      "\n",
      "        sex   age     fare  sibsp  parch  \n",
      "0      male  22.0   7.2500      1      0  \n",
      "1    female  38.0  71.2833      1      0  \n",
      "2    female  26.0   7.9250      0      0  \n",
      "3    female  35.0  53.1000      1      0  \n",
      "4      male  35.0   8.0500      0      0  \n",
      "..      ...   ...      ...    ...    ...  \n",
      "709  female  39.0  29.1250      0      5  \n",
      "710    male  27.0  13.0000      0      0  \n",
      "711  female  19.0  30.0000      0      0  \n",
      "712    male  26.0  30.0000      0      0  \n",
      "713    male  32.0   7.7500      0      0  \n",
      "\n",
      "[714 rows x 8 columns]\n"
     ]
    }
   ],
   "source": [
    "print(titanic)"
   ]
  },
  {
   "cell_type": "code",
   "execution_count": 4,
   "id": "4846a824-6c22-4866-9a4e-b103d50e98cc",
   "metadata": {},
   "outputs": [
    {
     "data": {
      "text/plain": [
       "0      False\n",
       "1       True\n",
       "2       True\n",
       "3       True\n",
       "4      False\n",
       "       ...  \n",
       "709     True\n",
       "710    False\n",
       "711     True\n",
       "712    False\n",
       "713    False\n",
       "Name: sex, Length: 714, dtype: bool"
      ]
     },
     "execution_count": 4,
     "metadata": {},
     "output_type": "execute_result"
    }
   ],
   "source": [
    "titanic['sex']=='female'"
   ]
  },
  {
   "cell_type": "code",
   "execution_count": 8,
   "id": "7bea1535-3814-4c35-9e7a-b532bfc96fbc",
   "metadata": {},
   "outputs": [
    {
     "name": "stdout",
     "output_type": "stream",
     "text": [
      "     survived  pclass                                               name  \\\n",
      "1           1       1  Cumings, Mrs. John Bradley (Florence Briggs Th...   \n",
      "2           1       3                             Heikkinen, Miss. Laina   \n",
      "3           1       1       Futrelle, Mrs. Jacques Heath (Lily May Peel)   \n",
      "7           1       3  Johnson, Mrs. Oscar W (Elisabeth Vilhelmina Berg)   \n",
      "8           1       2                Nasser, Mrs. Nicholas (Adele Achem)   \n",
      "..        ...     ...                                                ...   \n",
      "703         1       1      Potter, Mrs. Thomas Jr (Lily Alexenia Wilson)   \n",
      "704         1       2       Shelley, Mrs. William (Imanita Parrish Hall)   \n",
      "706         0       3                       Dahlberg, Miss. Gerda Ulrika   \n",
      "709         0       3               Rice, Mrs. William (Margaret Norton)   \n",
      "711         1       1                       Graham, Miss. Margaret Edith   \n",
      "\n",
      "        sex   age     fare  sibsp  parch  \n",
      "1    female  38.0  71.2833      1      0  \n",
      "2    female  26.0   7.9250      0      0  \n",
      "3    female  35.0  53.1000      1      0  \n",
      "7    female  27.0  11.1333      0      2  \n",
      "8    female  14.0  30.0708      1      0  \n",
      "..      ...   ...      ...    ...    ...  \n",
      "703  female  56.0  83.1583      0      1  \n",
      "704  female  25.0  26.0000      0      1  \n",
      "706  female  22.0  10.5167      0      0  \n",
      "709  female  39.0  29.1250      0      5  \n",
      "711  female  19.0  30.0000      0      0  \n",
      "\n",
      "[261 rows x 8 columns]\n"
     ]
    }
   ],
   "source": [
    "a=titanic[titanic['sex']=='female']\n",
    "print(a)"
   ]
  },
  {
   "cell_type": "code",
   "execution_count": 9,
   "id": "a5d7b845-391a-45cf-a244-ace5e419d32b",
   "metadata": {},
   "outputs": [
    {
     "data": {
      "text/plain": [
       "pandas.core.frame.DataFrame"
      ]
     },
     "execution_count": 9,
     "metadata": {},
     "output_type": "execute_result"
    }
   ],
   "source": [
    "type(a)"
   ]
  },
  {
   "cell_type": "code",
   "execution_count": 12,
   "id": "56060f6b-6fc4-4395-a5ea-276d45341153",
   "metadata": {},
   "outputs": [
    {
     "data": {
      "text/plain": [
       "27.92"
      ]
     },
     "execution_count": 12,
     "metadata": {},
     "output_type": "execute_result"
    }
   ],
   "source": [
    "round(a['age'].mean(),2)"
   ]
  },
  {
   "cell_type": "code",
   "execution_count": 14,
   "id": "5290454a-2ae3-4c1a-8d15-bf58190706a5",
   "metadata": {},
   "outputs": [
    {
     "data": {
      "text/html": [
       "<div>\n",
       "<style scoped>\n",
       "    .dataframe tbody tr th:only-of-type {\n",
       "        vertical-align: middle;\n",
       "    }\n",
       "\n",
       "    .dataframe tbody tr th {\n",
       "        vertical-align: top;\n",
       "    }\n",
       "\n",
       "    .dataframe thead th {\n",
       "        text-align: right;\n",
       "    }\n",
       "</style>\n",
       "<table border=\"1\" class=\"dataframe\">\n",
       "  <thead>\n",
       "    <tr style=\"text-align: right;\">\n",
       "      <th></th>\n",
       "      <th>survived</th>\n",
       "      <th>pclass</th>\n",
       "      <th>name</th>\n",
       "      <th>sex</th>\n",
       "      <th>age</th>\n",
       "      <th>fare</th>\n",
       "      <th>sibsp</th>\n",
       "      <th>parch</th>\n",
       "    </tr>\n",
       "  </thead>\n",
       "  <tbody>\n",
       "    <tr>\n",
       "      <th>1</th>\n",
       "      <td>1</td>\n",
       "      <td>1</td>\n",
       "      <td>Cumings, Mrs. John Bradley (Florence Briggs Th...</td>\n",
       "      <td>female</td>\n",
       "      <td>38.0</td>\n",
       "      <td>71.2833</td>\n",
       "      <td>1</td>\n",
       "      <td>0</td>\n",
       "    </tr>\n",
       "    <tr>\n",
       "      <th>3</th>\n",
       "      <td>1</td>\n",
       "      <td>1</td>\n",
       "      <td>Futrelle, Mrs. Jacques Heath (Lily May Peel)</td>\n",
       "      <td>female</td>\n",
       "      <td>35.0</td>\n",
       "      <td>53.1000</td>\n",
       "      <td>1</td>\n",
       "      <td>0</td>\n",
       "    </tr>\n",
       "    <tr>\n",
       "      <th>10</th>\n",
       "      <td>1</td>\n",
       "      <td>1</td>\n",
       "      <td>Bonnell, Miss. Elizabeth</td>\n",
       "      <td>female</td>\n",
       "      <td>58.0</td>\n",
       "      <td>26.5500</td>\n",
       "      <td>0</td>\n",
       "      <td>0</td>\n",
       "    </tr>\n",
       "    <tr>\n",
       "      <th>38</th>\n",
       "      <td>1</td>\n",
       "      <td>1</td>\n",
       "      <td>Harper, Mrs. Henry Sleeper (Myna Haxtun)</td>\n",
       "      <td>female</td>\n",
       "      <td>49.0</td>\n",
       "      <td>76.7292</td>\n",
       "      <td>1</td>\n",
       "      <td>0</td>\n",
       "    </tr>\n",
       "    <tr>\n",
       "      <th>46</th>\n",
       "      <td>1</td>\n",
       "      <td>1</td>\n",
       "      <td>Icard, Miss. Amelie</td>\n",
       "      <td>female</td>\n",
       "      <td>38.0</td>\n",
       "      <td>80.0000</td>\n",
       "      <td>0</td>\n",
       "      <td>0</td>\n",
       "    </tr>\n",
       "    <tr>\n",
       "      <th>...</th>\n",
       "      <td>...</td>\n",
       "      <td>...</td>\n",
       "      <td>...</td>\n",
       "      <td>...</td>\n",
       "      <td>...</td>\n",
       "      <td>...</td>\n",
       "      <td>...</td>\n",
       "      <td>...</td>\n",
       "    </tr>\n",
       "    <tr>\n",
       "      <th>684</th>\n",
       "      <td>1</td>\n",
       "      <td>1</td>\n",
       "      <td>Wick, Mrs. George Dennick (Mary Hitchcock)</td>\n",
       "      <td>female</td>\n",
       "      <td>45.0</td>\n",
       "      <td>164.8667</td>\n",
       "      <td>1</td>\n",
       "      <td>1</td>\n",
       "    </tr>\n",
       "    <tr>\n",
       "      <th>689</th>\n",
       "      <td>1</td>\n",
       "      <td>1</td>\n",
       "      <td>Swift, Mrs. Frederick Joel (Margaret Welles Ba...</td>\n",
       "      <td>female</td>\n",
       "      <td>48.0</td>\n",
       "      <td>25.9292</td>\n",
       "      <td>0</td>\n",
       "      <td>0</td>\n",
       "    </tr>\n",
       "    <tr>\n",
       "      <th>696</th>\n",
       "      <td>1</td>\n",
       "      <td>1</td>\n",
       "      <td>Beckwith, Mrs. Richard Leonard (Sallie Monypeny)</td>\n",
       "      <td>female</td>\n",
       "      <td>47.0</td>\n",
       "      <td>52.5542</td>\n",
       "      <td>1</td>\n",
       "      <td>1</td>\n",
       "    </tr>\n",
       "    <tr>\n",
       "      <th>703</th>\n",
       "      <td>1</td>\n",
       "      <td>1</td>\n",
       "      <td>Potter, Mrs. Thomas Jr (Lily Alexenia Wilson)</td>\n",
       "      <td>female</td>\n",
       "      <td>56.0</td>\n",
       "      <td>83.1583</td>\n",
       "      <td>0</td>\n",
       "      <td>1</td>\n",
       "    </tr>\n",
       "    <tr>\n",
       "      <th>711</th>\n",
       "      <td>1</td>\n",
       "      <td>1</td>\n",
       "      <td>Graham, Miss. Margaret Edith</td>\n",
       "      <td>female</td>\n",
       "      <td>19.0</td>\n",
       "      <td>30.0000</td>\n",
       "      <td>0</td>\n",
       "      <td>0</td>\n",
       "    </tr>\n",
       "  </tbody>\n",
       "</table>\n",
       "<p>85 rows × 8 columns</p>\n",
       "</div>"
      ],
      "text/plain": [
       "     survived  pclass                                               name  \\\n",
       "1           1       1  Cumings, Mrs. John Bradley (Florence Briggs Th...   \n",
       "3           1       1       Futrelle, Mrs. Jacques Heath (Lily May Peel)   \n",
       "10          1       1                           Bonnell, Miss. Elizabeth   \n",
       "38          1       1           Harper, Mrs. Henry Sleeper (Myna Haxtun)   \n",
       "46          1       1                                Icard, Miss. Amelie   \n",
       "..        ...     ...                                                ...   \n",
       "684         1       1         Wick, Mrs. George Dennick (Mary Hitchcock)   \n",
       "689         1       1  Swift, Mrs. Frederick Joel (Margaret Welles Ba...   \n",
       "696         1       1   Beckwith, Mrs. Richard Leonard (Sallie Monypeny)   \n",
       "703         1       1      Potter, Mrs. Thomas Jr (Lily Alexenia Wilson)   \n",
       "711         1       1                       Graham, Miss. Margaret Edith   \n",
       "\n",
       "        sex   age      fare  sibsp  parch  \n",
       "1    female  38.0   71.2833      1      0  \n",
       "3    female  35.0   53.1000      1      0  \n",
       "10   female  58.0   26.5500      0      0  \n",
       "38   female  49.0   76.7292      1      0  \n",
       "46   female  38.0   80.0000      0      0  \n",
       "..      ...   ...       ...    ...    ...  \n",
       "684  female  45.0  164.8667      1      1  \n",
       "689  female  48.0   25.9292      0      0  \n",
       "696  female  47.0   52.5542      1      1  \n",
       "703  female  56.0   83.1583      0      1  \n",
       "711  female  19.0   30.0000      0      0  \n",
       "\n",
       "[85 rows x 8 columns]"
      ]
     },
     "execution_count": 14,
     "metadata": {},
     "output_type": "execute_result"
    }
   ],
   "source": [
    "a[(a['sex']=='female') & (a['pclass']==1)]"
   ]
  },
  {
   "cell_type": "code",
   "execution_count": 21,
   "id": "0d5c979b-3198-45f9-802a-7dc31ae39714",
   "metadata": {},
   "outputs": [
    {
     "data": {
      "text/plain": [
       "(85, 8)"
      ]
     },
     "execution_count": 21,
     "metadata": {},
     "output_type": "execute_result"
    }
   ],
   "source": [
    "a[(a['sex']=='female') & (a['pclass']==1)].shape"
   ]
  },
  {
   "cell_type": "code",
   "execution_count": 22,
   "id": "f708a3b4-c703-4ecc-bedc-96619f5987b1",
   "metadata": {},
   "outputs": [
    {
     "data": {
      "text/plain": [
       "(176, 8)"
      ]
     },
     "execution_count": 22,
     "metadata": {},
     "output_type": "execute_result"
    }
   ],
   "source": [
    "a[(a['sex']=='female') & (a['pclass']>=2)].shape"
   ]
  },
  {
   "cell_type": "code",
   "execution_count": 27,
   "id": "6a96f8a4-5b76-45ec-b2c3-7717c5a14033",
   "metadata": {},
   "outputs": [
    {
     "data": {
      "text/plain": [
       "(102, 8)"
      ]
     },
     "execution_count": 27,
     "metadata": {},
     "output_type": "execute_result"
    }
   ],
   "source": [
    "value=[3,4]\n",
    "a[a['pclass'].isin(value)].shape"
   ]
  },
  {
   "cell_type": "markdown",
   "id": "24b5dc55-91d5-45a3-b542-3ca323e32afb",
   "metadata": {},
   "source": [
    "# Basic Descriptive statistics"
   ]
  },
  {
   "cell_type": "code",
   "execution_count": 28,
   "id": "d3eb65d5-d0ff-45a3-bde7-363e63461d4e",
   "metadata": {},
   "outputs": [],
   "source": [
    "b=a['age']"
   ]
  },
  {
   "cell_type": "code",
   "execution_count": 29,
   "id": "c92cca88-a369-46ce-a275-e186caf13e0c",
   "metadata": {},
   "outputs": [
    {
     "data": {
      "text/plain": [
       "27.915708812260537"
      ]
     },
     "execution_count": 29,
     "metadata": {},
     "output_type": "execute_result"
    }
   ],
   "source": [
    "b.mean()"
   ]
  },
  {
   "cell_type": "code",
   "execution_count": 31,
   "id": "02bfa855-2804-4d2d-be45-598270b2509e",
   "metadata": {},
   "outputs": [
    {
     "data": {
      "text/plain": [
       "count    261.000000\n",
       "mean      27.915709\n",
       "std       14.110146\n",
       "min        0.750000\n",
       "25%       18.000000\n",
       "50%       27.000000\n",
       "75%       37.000000\n",
       "max       63.000000\n",
       "Name: age, dtype: float64"
      ]
     },
     "execution_count": 31,
     "metadata": {},
     "output_type": "execute_result"
    }
   ],
   "source": [
    "b.describe()"
   ]
  },
  {
   "cell_type": "code",
   "execution_count": 32,
   "id": "45fdb931-38a7-454d-9ac9-a7d7d30b6a4e",
   "metadata": {},
   "outputs": [
    {
     "data": {
      "text/html": [
       "<div>\n",
       "<style scoped>\n",
       "    .dataframe tbody tr th:only-of-type {\n",
       "        vertical-align: middle;\n",
       "    }\n",
       "\n",
       "    .dataframe tbody tr th {\n",
       "        vertical-align: top;\n",
       "    }\n",
       "\n",
       "    .dataframe thead th {\n",
       "        text-align: right;\n",
       "    }\n",
       "</style>\n",
       "<table border=\"1\" class=\"dataframe\">\n",
       "  <thead>\n",
       "    <tr style=\"text-align: right;\">\n",
       "      <th></th>\n",
       "      <th>survived</th>\n",
       "      <th>pclass</th>\n",
       "      <th>age</th>\n",
       "      <th>fare</th>\n",
       "      <th>sibsp</th>\n",
       "      <th>parch</th>\n",
       "    </tr>\n",
       "  </thead>\n",
       "  <tbody>\n",
       "    <tr>\n",
       "      <th>count</th>\n",
       "      <td>261.000000</td>\n",
       "      <td>261.000000</td>\n",
       "      <td>261.000000</td>\n",
       "      <td>261.000000</td>\n",
       "      <td>261.000000</td>\n",
       "      <td>261.000000</td>\n",
       "    </tr>\n",
       "    <tr>\n",
       "      <th>mean</th>\n",
       "      <td>0.754789</td>\n",
       "      <td>2.065134</td>\n",
       "      <td>27.915709</td>\n",
       "      <td>47.582759</td>\n",
       "      <td>0.639847</td>\n",
       "      <td>0.708812</td>\n",
       "    </tr>\n",
       "    <tr>\n",
       "      <th>std</th>\n",
       "      <td>0.431039</td>\n",
       "      <td>0.845560</td>\n",
       "      <td>14.110146</td>\n",
       "      <td>61.346854</td>\n",
       "      <td>0.928493</td>\n",
       "      <td>1.066752</td>\n",
       "    </tr>\n",
       "    <tr>\n",
       "      <th>min</th>\n",
       "      <td>0.000000</td>\n",
       "      <td>1.000000</td>\n",
       "      <td>0.750000</td>\n",
       "      <td>6.750000</td>\n",
       "      <td>0.000000</td>\n",
       "      <td>0.000000</td>\n",
       "    </tr>\n",
       "    <tr>\n",
       "      <th>25%</th>\n",
       "      <td>1.000000</td>\n",
       "      <td>1.000000</td>\n",
       "      <td>18.000000</td>\n",
       "      <td>13.000000</td>\n",
       "      <td>0.000000</td>\n",
       "      <td>0.000000</td>\n",
       "    </tr>\n",
       "    <tr>\n",
       "      <th>50%</th>\n",
       "      <td>1.000000</td>\n",
       "      <td>2.000000</td>\n",
       "      <td>27.000000</td>\n",
       "      <td>26.000000</td>\n",
       "      <td>0.000000</td>\n",
       "      <td>0.000000</td>\n",
       "    </tr>\n",
       "    <tr>\n",
       "      <th>75%</th>\n",
       "      <td>1.000000</td>\n",
       "      <td>3.000000</td>\n",
       "      <td>37.000000</td>\n",
       "      <td>57.979200</td>\n",
       "      <td>1.000000</td>\n",
       "      <td>1.000000</td>\n",
       "    </tr>\n",
       "    <tr>\n",
       "      <th>max</th>\n",
       "      <td>1.000000</td>\n",
       "      <td>3.000000</td>\n",
       "      <td>63.000000</td>\n",
       "      <td>512.329200</td>\n",
       "      <td>5.000000</td>\n",
       "      <td>6.000000</td>\n",
       "    </tr>\n",
       "  </tbody>\n",
       "</table>\n",
       "</div>"
      ],
      "text/plain": [
       "         survived      pclass         age        fare       sibsp       parch\n",
       "count  261.000000  261.000000  261.000000  261.000000  261.000000  261.000000\n",
       "mean     0.754789    2.065134   27.915709   47.582759    0.639847    0.708812\n",
       "std      0.431039    0.845560   14.110146   61.346854    0.928493    1.066752\n",
       "min      0.000000    1.000000    0.750000    6.750000    0.000000    0.000000\n",
       "25%      1.000000    1.000000   18.000000   13.000000    0.000000    0.000000\n",
       "50%      1.000000    2.000000   27.000000   26.000000    0.000000    0.000000\n",
       "75%      1.000000    3.000000   37.000000   57.979200    1.000000    1.000000\n",
       "max      1.000000    3.000000   63.000000  512.329200    5.000000    6.000000"
      ]
     },
     "execution_count": 32,
     "metadata": {},
     "output_type": "execute_result"
    }
   ],
   "source": [
    "a.describe()"
   ]
  },
  {
   "cell_type": "markdown",
   "id": "ed27bdda-7809-4fbb-bb63-7c132d409e50",
   "metadata": {},
   "source": [
    "### Experiment 3 over"
   ]
  },
  {
   "cell_type": "code",
   "execution_count": null,
   "id": "22529515-31a6-46dc-8953-dde9e4fa20ac",
   "metadata": {},
   "outputs": [],
   "source": []
  },
  {
   "cell_type": "code",
   "execution_count": null,
   "id": "56a6fe88-edf0-4432-97cd-e02c3df5d4eb",
   "metadata": {},
   "outputs": [],
   "source": []
  },
  {
   "cell_type": "code",
   "execution_count": null,
   "id": "0d37c8c9-85e9-4d2f-b94c-c550585e34ce",
   "metadata": {},
   "outputs": [],
   "source": []
  }
 ],
 "metadata": {
  "kernelspec": {
   "display_name": "Python 3 (ipykernel)",
   "language": "python",
   "name": "python3"
  },
  "language_info": {
   "codemirror_mode": {
    "name": "ipython",
    "version": 3
   },
   "file_extension": ".py",
   "mimetype": "text/x-python",
   "name": "python",
   "nbconvert_exporter": "python",
   "pygments_lexer": "ipython3",
   "version": "3.11.7"
  }
 },
 "nbformat": 4,
 "nbformat_minor": 5
}
