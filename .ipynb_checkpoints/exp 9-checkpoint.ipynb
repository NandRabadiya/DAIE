{
 "cells": [
  {
   "cell_type": "code",
   "execution_count": 1,
   "id": "d855f978-b1b0-4706-9fcc-33190ceafa36",
   "metadata": {},
   "outputs": [
    {
     "name": "stdout",
     "output_type": "stream",
     "text": [
      "Collecting textblob\n",
      "  Downloading textblob-0.19.0-py3-none-any.whl.metadata (4.4 kB)\n",
      "Collecting nltk>=3.9 (from textblob)\n",
      "  Downloading nltk-3.9.1-py3-none-any.whl.metadata (2.9 kB)\n",
      "Requirement already satisfied: click in c:\\users\\student\\anaconda3\\lib\\site-packages (from nltk>=3.9->textblob) (8.1.7)\n",
      "Requirement already satisfied: joblib in c:\\users\\student\\anaconda3\\lib\\site-packages (from nltk>=3.9->textblob) (1.2.0)\n",
      "Requirement already satisfied: regex>=2021.8.3 in c:\\users\\student\\anaconda3\\lib\\site-packages (from nltk>=3.9->textblob) (2023.10.3)\n",
      "Requirement already satisfied: tqdm in c:\\users\\student\\anaconda3\\lib\\site-packages (from nltk>=3.9->textblob) (4.65.0)\n",
      "Requirement already satisfied: colorama in c:\\users\\student\\anaconda3\\lib\\site-packages (from click->nltk>=3.9->textblob) (0.4.6)\n",
      "Downloading textblob-0.19.0-py3-none-any.whl (624 kB)\n",
      "   ---------------------------------------- 0.0/624.3 kB ? eta -:--:--\n",
      "   ------------------- -------------------- 307.2/624.3 kB 9.6 MB/s eta 0:00:01\n",
      "   ---------------------------------------  614.4/624.3 kB 7.7 MB/s eta 0:00:01\n",
      "   ---------------------------------------- 624.3/624.3 kB 6.6 MB/s eta 0:00:00\n",
      "Downloading nltk-3.9.1-py3-none-any.whl (1.5 MB)\n",
      "   ---------------------------------------- 0.0/1.5 MB ? eta -:--:--\n",
      "   --------- ------------------------------ 0.4/1.5 MB 11.6 MB/s eta 0:00:01\n",
      "   ----------------- ---------------------- 0.7/1.5 MB 8.4 MB/s eta 0:00:01\n",
      "   ----------------------- ---------------- 0.9/1.5 MB 7.0 MB/s eta 0:00:01\n",
      "   --------------------------- ------------ 1.0/1.5 MB 6.0 MB/s eta 0:00:01\n",
      "   -------------------------------- ------- 1.2/1.5 MB 5.5 MB/s eta 0:00:01\n",
      "   ---------------------------------------  1.5/1.5 MB 5.6 MB/s eta 0:00:01\n",
      "   ---------------------------------------- 1.5/1.5 MB 5.3 MB/s eta 0:00:00\n",
      "Installing collected packages: nltk, textblob\n",
      "  Attempting uninstall: nltk\n",
      "    Found existing installation: nltk 3.8.1\n",
      "    Uninstalling nltk-3.8.1:\n",
      "      Successfully uninstalled nltk-3.8.1\n",
      "Successfully installed nltk-3.9.1 textblob-0.19.0\n",
      "Note: you may need to restart the kernel to use updated packages.\n"
     ]
    }
   ],
   "source": [
    "pip install textblob"
   ]
  },
  {
   "cell_type": "code",
   "execution_count": 1,
   "id": "e442e35a-30ea-4d8c-a219-3917e560657e",
   "metadata": {},
   "outputs": [],
   "source": [
    "from textblob import TextBlob\n",
    "from textblob import download_corpora"
   ]
  },
  {
   "cell_type": "code",
   "execution_count": 2,
   "id": "dc908138-04fa-4760-9193-b61bce96b6ea",
   "metadata": {},
   "outputs": [],
   "source": [
    "#CREATE TEXTBLOB OBJECT FROM TEXT\n",
    "blob = TextBlob('''DDU is thE bEsTt univercity''');\n",
    "blob1=TextBlob('''speling mustake''');"
   ]
  },
  {
   "cell_type": "code",
   "execution_count": 4,
   "id": "03fb4d36-1963-4369-b951-54b7763958dc",
   "metadata": {},
   "outputs": [
    {
     "name": "stdout",
     "output_type": "stream",
     "text": [
      "DDU is the best university\n",
      "spelling mistake\n"
     ]
    }
   ],
   "source": [
    "print(blob.correct())\n",
    "print(blob1.correct())"
   ]
  },
  {
   "cell_type": "code",
   "execution_count": 6,
   "id": "7b2024f8-445c-4999-b28d-2a507ec18226",
   "metadata": {},
   "outputs": [],
   "source": [
    " import pandas as pd\n",
    "data=pd.read_csv('dataset.csv')"
   ]
  },
  {
   "cell_type": "code",
   "execution_count": 7,
   "id": "d80f5843-8029-4693-9161-e0220ad32695",
   "metadata": {},
   "outputs": [
    {
     "data": {
      "text/html": [
       "<div>\n",
       "<style scoped>\n",
       "    .dataframe tbody tr th:only-of-type {\n",
       "        vertical-align: middle;\n",
       "    }\n",
       "\n",
       "    .dataframe tbody tr th {\n",
       "        vertical-align: top;\n",
       "    }\n",
       "\n",
       "    .dataframe thead th {\n",
       "        text-align: right;\n",
       "    }\n",
       "</style>\n",
       "<table border=\"1\" class=\"dataframe\">\n",
       "  <thead>\n",
       "    <tr style=\"text-align: right;\">\n",
       "      <th></th>\n",
       "      <th>Emotion</th>\n",
       "      <th>Text</th>\n",
       "    </tr>\n",
       "  </thead>\n",
       "  <tbody>\n",
       "    <tr>\n",
       "      <th>0</th>\n",
       "      <td>neutral</td>\n",
       "      <td>Why ?</td>\n",
       "    </tr>\n",
       "    <tr>\n",
       "      <th>1</th>\n",
       "      <td>joy</td>\n",
       "      <td>Sage Act upgrade on my to do list for tommorow.</td>\n",
       "    </tr>\n",
       "    <tr>\n",
       "      <th>2</th>\n",
       "      <td>sadness</td>\n",
       "      <td>ON THE WAY TO MY HOMEGIRL BABY FUNERAL!!! MAN ...</td>\n",
       "    </tr>\n",
       "    <tr>\n",
       "      <th>3</th>\n",
       "      <td>joy</td>\n",
       "      <td>Such an eye ! The true hazel eye-and so brill...</td>\n",
       "    </tr>\n",
       "    <tr>\n",
       "      <th>4</th>\n",
       "      <td>joy</td>\n",
       "      <td>@Iluvmiasantos ugh babe.. hugggzzz for u .!  b...</td>\n",
       "    </tr>\n",
       "    <tr>\n",
       "      <th>...</th>\n",
       "      <td>...</td>\n",
       "      <td>...</td>\n",
       "    </tr>\n",
       "    <tr>\n",
       "      <th>34787</th>\n",
       "      <td>surprise</td>\n",
       "      <td>@MichelGW have you gift! Hope you like it! It'...</td>\n",
       "    </tr>\n",
       "    <tr>\n",
       "      <th>34788</th>\n",
       "      <td>joy</td>\n",
       "      <td>The world didnt give it to me..so the world MO...</td>\n",
       "    </tr>\n",
       "    <tr>\n",
       "      <th>34789</th>\n",
       "      <td>anger</td>\n",
       "      <td>A man robbed me today .</td>\n",
       "    </tr>\n",
       "    <tr>\n",
       "      <th>34790</th>\n",
       "      <td>fear</td>\n",
       "      <td>Youu call it JEALOUSY, I call it of #Losing YO...</td>\n",
       "    </tr>\n",
       "    <tr>\n",
       "      <th>34791</th>\n",
       "      <td>sadness</td>\n",
       "      <td>I think about you baby, and I dream about you ...</td>\n",
       "    </tr>\n",
       "  </tbody>\n",
       "</table>\n",
       "<p>34792 rows × 2 columns</p>\n",
       "</div>"
      ],
      "text/plain": [
       "        Emotion                                               Text\n",
       "0       neutral                                             Why ? \n",
       "1           joy    Sage Act upgrade on my to do list for tommorow.\n",
       "2       sadness  ON THE WAY TO MY HOMEGIRL BABY FUNERAL!!! MAN ...\n",
       "3           joy   Such an eye ! The true hazel eye-and so brill...\n",
       "4           joy  @Iluvmiasantos ugh babe.. hugggzzz for u .!  b...\n",
       "...         ...                                                ...\n",
       "34787  surprise  @MichelGW have you gift! Hope you like it! It'...\n",
       "34788       joy  The world didnt give it to me..so the world MO...\n",
       "34789     anger                           A man robbed me today . \n",
       "34790      fear  Youu call it JEALOUSY, I call it of #Losing YO...\n",
       "34791   sadness  I think about you baby, and I dream about you ...\n",
       "\n",
       "[34792 rows x 2 columns]"
      ]
     },
     "execution_count": 7,
     "metadata": {},
     "output_type": "execute_result"
    }
   ],
   "source": [
    "data"
   ]
  },
  {
   "cell_type": "code",
   "execution_count": 2,
   "id": "fae5a0b1-5864-4f6e-912f-8d42e2899a32",
   "metadata": {},
   "outputs": [
    {
     "name": "stdout",
     "output_type": "stream",
     "text": [
      "Collecting neattext\n",
      "  Downloading neattext-0.1.3-py3-none-any.whl.metadata (12 kB)\n",
      "Downloading neattext-0.1.3-py3-none-any.whl (114 kB)\n",
      "   ---------------------------------------- 0.0/114.7 kB ? eta -:--:--\n",
      "   ---------------------------------------- 0.0/114.7 kB ? eta -:--:--\n",
      "   ---------------------------------------- 0.0/114.7 kB ? eta -:--:--\n",
      "   --- ------------------------------------ 10.2/114.7 kB ? eta -:--:--\n",
      "   --- ------------------------------------ 10.2/114.7 kB ? eta -:--:--\n",
      "   --- ------------------------------------ 10.2/114.7 kB ? eta -:--:--\n",
      "   --- ------------------------------------ 10.2/114.7 kB ? eta -:--:--\n",
      "   --- ------------------------------------ 10.2/114.7 kB ? eta -:--:--\n",
      "   --- ------------------------------------ 10.2/114.7 kB ? eta -:--:--\n",
      "   --- ------------------------------------ 10.2/114.7 kB ? eta -:--:--\n",
      "   --- ------------------------------------ 10.2/114.7 kB ? eta -:--:--\n",
      "   --- ------------------------------------ 10.2/114.7 kB ? eta -:--:--\n",
      "   ---------- ----------------------------- 30.7/114.7 kB 46.8 kB/s eta 0:00:02\n",
      "   ---------- ----------------------------- 30.7/114.7 kB 46.8 kB/s eta 0:00:02\n",
      "   ---------- ----------------------------- 30.7/114.7 kB 46.8 kB/s eta 0:00:02\n",
      "   ---------- ----------------------------- 30.7/114.7 kB 46.8 kB/s eta 0:00:02\n",
      "   ---------- ----------------------------- 30.7/114.7 kB 46.8 kB/s eta 0:00:02\n",
      "   ---------- ----------------------------- 30.7/114.7 kB 46.8 kB/s eta 0:00:02\n",
      "   -------------- ------------------------- 41.0/114.7 kB 43.7 kB/s eta 0:00:02\n",
      "   -------------- ------------------------- 41.0/114.7 kB 43.7 kB/s eta 0:00:02\n",
      "   -------------- ------------------------- 41.0/114.7 kB 43.7 kB/s eta 0:00:02\n",
      "   -------------- ------------------------- 41.0/114.7 kB 43.7 kB/s eta 0:00:02\n",
      "   -------------- ------------------------- 41.0/114.7 kB 43.7 kB/s eta 0:00:02\n",
      "   -------------- ------------------------- 41.0/114.7 kB 43.7 kB/s eta 0:00:02\n",
      "   --------------------- ------------------ 61.4/114.7 kB 52.8 kB/s eta 0:00:02\n",
      "   --------------------- ------------------ 61.4/114.7 kB 52.8 kB/s eta 0:00:02\n",
      "   --------------------- ------------------ 61.4/114.7 kB 52.8 kB/s eta 0:00:02\n",
      "   --------------------- ------------------ 61.4/114.7 kB 52.8 kB/s eta 0:00:02\n",
      "   --------------------- ------------------ 61.4/114.7 kB 52.8 kB/s eta 0:00:02\n",
      "   ------------------------ --------------- 71.7/114.7 kB 51.1 kB/s eta 0:00:01\n",
      "   ------------------------ --------------- 71.7/114.7 kB 51.1 kB/s eta 0:00:01\n",
      "   ------------------------ --------------- 71.7/114.7 kB 51.1 kB/s eta 0:00:01\n",
      "   ------------------------ --------------- 71.7/114.7 kB 51.1 kB/s eta 0:00:01\n",
      "   -------------------------------- ------- 92.2/114.7 kB 59.6 kB/s eta 0:00:01\n",
      "   -------------------------------- ------- 92.2/114.7 kB 59.6 kB/s eta 0:00:01\n",
      "   -------------------------------- ------- 92.2/114.7 kB 59.6 kB/s eta 0:00:01\n",
      "   -------------------------------- ------- 92.2/114.7 kB 59.6 kB/s eta 0:00:01\n",
      "   -------------------------------- ------- 92.2/114.7 kB 59.6 kB/s eta 0:00:01\n",
      "   -------------------------------- ------- 92.2/114.7 kB 59.6 kB/s eta 0:00:01\n",
      "   -------------------------------- ------- 92.2/114.7 kB 59.6 kB/s eta 0:00:01\n",
      "   --------------------------------------  112.6/114.7 kB 60.7 kB/s eta 0:00:01\n",
      "   --------------------------------------- 114.7/114.7 kB 61.4 kB/s eta 0:00:00\n",
      "Installing collected packages: neattext\n",
      "Successfully installed neattext-0.1.3\n"
     ]
    }
   ],
   "source": [
    "!pip install neattext"
   ]
  },
  {
   "cell_type": "code",
   "execution_count": 3,
   "id": "2ec5eea8-0186-415a-ab63-e68d059f7719",
   "metadata": {},
   "outputs": [],
   "source": [
    "import pandas as pd\n",
    "import numpy as np\n",
    "import neattext.functions as nfx\n",
    "import seaborn as sns\n",
    "import matplotlib.pyplot as plt"
   ]
  },
  {
   "cell_type": "code",
   "execution_count": 4,
   "id": "3a5084b7-9351-4668-9e9f-b58b0428295c",
   "metadata": {},
   "outputs": [
    {
     "data": {
      "text/html": [
       "<div>\n",
       "<style scoped>\n",
       "    .dataframe tbody tr th:only-of-type {\n",
       "        vertical-align: middle;\n",
       "    }\n",
       "\n",
       "    .dataframe tbody tr th {\n",
       "        vertical-align: top;\n",
       "    }\n",
       "\n",
       "    .dataframe thead th {\n",
       "        text-align: right;\n",
       "    }\n",
       "</style>\n",
       "<table border=\"1\" class=\"dataframe\">\n",
       "  <thead>\n",
       "    <tr style=\"text-align: right;\">\n",
       "      <th></th>\n",
       "      <th>Emotion</th>\n",
       "      <th>Text</th>\n",
       "    </tr>\n",
       "  </thead>\n",
       "  <tbody>\n",
       "    <tr>\n",
       "      <th>0</th>\n",
       "      <td>neutral</td>\n",
       "      <td>Why ?</td>\n",
       "    </tr>\n",
       "    <tr>\n",
       "      <th>1</th>\n",
       "      <td>joy</td>\n",
       "      <td>Sage Act upgrade on my to do list for tommorow.</td>\n",
       "    </tr>\n",
       "    <tr>\n",
       "      <th>2</th>\n",
       "      <td>sadness</td>\n",
       "      <td>ON THE WAY TO MY HOMEGIRL BABY FUNERAL!!! MAN ...</td>\n",
       "    </tr>\n",
       "    <tr>\n",
       "      <th>3</th>\n",
       "      <td>joy</td>\n",
       "      <td>Such an eye ! The true hazel eye-and so brill...</td>\n",
       "    </tr>\n",
       "    <tr>\n",
       "      <th>4</th>\n",
       "      <td>joy</td>\n",
       "      <td>@Iluvmiasantos ugh babe.. hugggzzz for u .!  b...</td>\n",
       "    </tr>\n",
       "  </tbody>\n",
       "</table>\n",
       "</div>"
      ],
      "text/plain": [
       "   Emotion                                               Text\n",
       "0  neutral                                             Why ? \n",
       "1      joy    Sage Act upgrade on my to do list for tommorow.\n",
       "2  sadness  ON THE WAY TO MY HOMEGIRL BABY FUNERAL!!! MAN ...\n",
       "3      joy   Such an eye ! The true hazel eye-and so brill...\n",
       "4      joy  @Iluvmiasantos ugh babe.. hugggzzz for u .!  b..."
      ]
     },
     "execution_count": 4,
     "metadata": {},
     "output_type": "execute_result"
    }
   ],
   "source": [
    "df=pd.read_csv('dataset.csv')\n",
    "df.head()"
   ]
  },
  {
   "cell_type": "code",
   "execution_count": 5,
   "id": "27d4dfd8-1a91-4951-83e7-66597657dd51",
   "metadata": {},
   "outputs": [
    {
     "data": {
      "text/plain": [
       "(34792, 2)"
      ]
     },
     "execution_count": 5,
     "metadata": {},
     "output_type": "execute_result"
    }
   ],
   "source": [
    "df.shape"
   ]
  },
  {
   "cell_type": "code",
   "execution_count": 6,
   "id": "96f4b389-7aa6-4244-ac9f-f9e15c523003",
   "metadata": {},
   "outputs": [
    {
     "data": {
      "text/html": [
       "<div>\n",
       "<style scoped>\n",
       "    .dataframe tbody tr th:only-of-type {\n",
       "        vertical-align: middle;\n",
       "    }\n",
       "\n",
       "    .dataframe tbody tr th {\n",
       "        vertical-align: top;\n",
       "    }\n",
       "\n",
       "    .dataframe thead th {\n",
       "        text-align: right;\n",
       "    }\n",
       "</style>\n",
       "<table border=\"1\" class=\"dataframe\">\n",
       "  <thead>\n",
       "    <tr style=\"text-align: right;\">\n",
       "      <th></th>\n",
       "      <th>Emotion</th>\n",
       "      <th>Text</th>\n",
       "    </tr>\n",
       "  </thead>\n",
       "  <tbody>\n",
       "    <tr>\n",
       "      <th>count</th>\n",
       "      <td>34792</td>\n",
       "      <td>34792</td>\n",
       "    </tr>\n",
       "    <tr>\n",
       "      <th>unique</th>\n",
       "      <td>8</td>\n",
       "      <td>31105</td>\n",
       "    </tr>\n",
       "    <tr>\n",
       "      <th>top</th>\n",
       "      <td>joy</td>\n",
       "      <td>Yes .</td>\n",
       "    </tr>\n",
       "    <tr>\n",
       "      <th>freq</th>\n",
       "      <td>11045</td>\n",
       "      <td>76</td>\n",
       "    </tr>\n",
       "  </tbody>\n",
       "</table>\n",
       "</div>"
      ],
      "text/plain": [
       "       Emotion     Text\n",
       "count    34792    34792\n",
       "unique       8    31105\n",
       "top        joy   Yes . \n",
       "freq     11045       76"
      ]
     },
     "execution_count": 6,
     "metadata": {},
     "output_type": "execute_result"
    }
   ],
   "source": [
    "df.describe()"
   ]
  },
  {
   "cell_type": "code",
   "execution_count": 7,
   "id": "c0d8b79e-4737-44f7-b35c-8cd533726520",
   "metadata": {},
   "outputs": [
    {
     "data": {
      "text/plain": [
       "Emotion    0\n",
       "Text       0\n",
       "dtype: int64"
      ]
     },
     "execution_count": 7,
     "metadata": {},
     "output_type": "execute_result"
    }
   ],
   "source": [
    "df.isnull().sum()"
   ]
  },
  {
   "cell_type": "code",
   "execution_count": 10,
   "id": "8d0037a1-37c5-4b61-b870-5f5f2307a596",
   "metadata": {},
   "outputs": [
    {
     "data": {
      "text/plain": [
       "<Axes: xlabel='Emotion'>"
      ]
     },
     "execution_count": 10,
     "metadata": {},
     "output_type": "execute_result"
    },
    {
     "data": {
      "image/png": "[encoded data removed]",
      "text/plain": [
       "<Figure size 640x480 with 1 Axes>"
      ]
     },
     "metadata": {},
     "output_type": "display_data"
    }
   ],
   "source": [
    "df['Emotion'].value_counts().plot(kind='bar')"
   ]
  },
  {
   "cell_type": "code",
   "execution_count": 11,
   "id": "22de70ff-725b-4f75-87a8-33cd27da1899",
   "metadata": {},
   "outputs": [],
   "source": [
    "from textblob import TextBlob"
   ]
  },
  {
   "cell_type": "code",
   "execution_count": 13,
   "id": "e35fbfcf-580a-44d0-9c9f-e1f3ef20f5cb",
   "metadata": {},
   "outputs": [],
   "source": [
    "def get_sentiment(text):\n",
    "    blob=TextBlob(text)\n",
    "    sentiment=blob.sentiment.polarity\n",
    "    if sentiment > 0:\n",
    "            result='Positive'\n",
    "    elif sentiment < 0 :\n",
    "            result = 'Negative'\n",
    "    else :\n",
    "            result= 'Neutral'\n",
    "\n",
    "    return result;"
   ]
  },
  {
   "cell_type": "code",
   "execution_count": 20,
   "id": "81170ea1-97fc-40d6-804d-54103ff29ec1",
   "metadata": {},
   "outputs": [
    {
     "data": {
      "text/plain": [
       "'Negative'"
      ]
     },
     "execution_count": 20,
     "metadata": {},
     "output_type": "execute_result"
    }
   ],
   "source": [
    "get_sentiment('I was late to my class')"
   ]
  },
  {
   "cell_type": "code",
   "execution_count": 23,
   "id": "68d16df1-6e3d-4e6f-bf26-b99819c3cf02",
   "metadata": {},
   "outputs": [
    {
     "data": {
      "text/html": [
       "<div>\n",
       "<style scoped>\n",
       "    .dataframe tbody tr th:only-of-type {\n",
       "        vertical-align: middle;\n",
       "    }\n",
       "\n",
       "    .dataframe tbody tr th {\n",
       "        vertical-align: top;\n",
       "    }\n",
       "\n",
       "    .dataframe thead th {\n",
       "        text-align: right;\n",
       "    }\n",
       "</style>\n",
       "<table border=\"1\" class=\"dataframe\">\n",
       "  <thead>\n",
       "    <tr style=\"text-align: right;\">\n",
       "      <th></th>\n",
       "      <th>Emotion</th>\n",
       "      <th>Text</th>\n",
       "      <th>Sentiment</th>\n",
       "    </tr>\n",
       "  </thead>\n",
       "  <tbody>\n",
       "    <tr>\n",
       "      <th>0</th>\n",
       "      <td>neutral</td>\n",
       "      <td>Why ?</td>\n",
       "      <td>Neutral</td>\n",
       "    </tr>\n",
       "    <tr>\n",
       "      <th>1</th>\n",
       "      <td>joy</td>\n",
       "      <td>Sage Act upgrade on my to do list for tommorow.</td>\n",
       "      <td>Neutral</td>\n",
       "    </tr>\n",
       "    <tr>\n",
       "      <th>2</th>\n",
       "      <td>sadness</td>\n",
       "      <td>ON THE WAY TO MY HOMEGIRL BABY FUNERAL!!! MAN ...</td>\n",
       "      <td>Negative</td>\n",
       "    </tr>\n",
       "    <tr>\n",
       "      <th>3</th>\n",
       "      <td>joy</td>\n",
       "      <td>Such an eye ! The true hazel eye-and so brill...</td>\n",
       "      <td>Positive</td>\n",
       "    </tr>\n",
       "    <tr>\n",
       "      <th>4</th>\n",
       "      <td>joy</td>\n",
       "      <td>@Iluvmiasantos ugh babe.. hugggzzz for u .!  b...</td>\n",
       "      <td>Neutral</td>\n",
       "    </tr>\n",
       "    <tr>\n",
       "      <th>5</th>\n",
       "      <td>fear</td>\n",
       "      <td>I'm expecting an extremely important phonecall...</td>\n",
       "      <td>Positive</td>\n",
       "    </tr>\n",
       "    <tr>\n",
       "      <th>6</th>\n",
       "      <td>sadness</td>\n",
       "      <td>.Couldnt wait to see them live. If missing th...</td>\n",
       "      <td>Negative</td>\n",
       "    </tr>\n",
       "    <tr>\n",
       "      <th>7</th>\n",
       "      <td>surprise</td>\n",
       "      <td>maken Tip 2: Stop op een moment dat je het hel...</td>\n",
       "      <td>Neutral</td>\n",
       "    </tr>\n",
       "    <tr>\n",
       "      <th>8</th>\n",
       "      <td>surprise</td>\n",
       "      <td>En dan krijg je ff een cadeautje van een tweep...</td>\n",
       "      <td>Neutral</td>\n",
       "    </tr>\n",
       "    <tr>\n",
       "      <th>9</th>\n",
       "      <td>surprise</td>\n",
       "      <td>@1116am Drummer Boy bij op verzoek van @BiemO...</td>\n",
       "      <td>Neutral</td>\n",
       "    </tr>\n",
       "    <tr>\n",
       "      <th>10</th>\n",
       "      <td>anger</td>\n",
       "      <td>The bull tossed the effigy out of their hands ...</td>\n",
       "      <td>Positive</td>\n",
       "    </tr>\n",
       "    <tr>\n",
       "      <th>11</th>\n",
       "      <td>sadness</td>\n",
       "      <td>People hide their behind a #fake smile.</td>\n",
       "      <td>Negative</td>\n",
       "    </tr>\n",
       "    <tr>\n",
       "      <th>12</th>\n",
       "      <td>joy</td>\n",
       "      <td>For once in his life , Leopold must have been ...</td>\n",
       "      <td>Positive</td>\n",
       "    </tr>\n",
       "    <tr>\n",
       "      <th>13</th>\n",
       "      <td>fear</td>\n",
       "      <td>Against the assault of laughter nothing can st...</td>\n",
       "      <td>Neutral</td>\n",
       "    </tr>\n",
       "    <tr>\n",
       "      <th>14</th>\n",
       "      <td>anger</td>\n",
       "      <td>With everything , with everybody , with all t...</td>\n",
       "      <td>Neutral</td>\n",
       "    </tr>\n",
       "    <tr>\n",
       "      <th>15</th>\n",
       "      <td>sadness</td>\n",
       "      <td>Shakuhachi dress $580,  10-22 mm lens $708 #pa...</td>\n",
       "      <td>Negative</td>\n",
       "    </tr>\n",
       "    <tr>\n",
       "      <th>16</th>\n",
       "      <td>surprise</td>\n",
       "      <td>Haha of course I come home to a different hous...</td>\n",
       "      <td>Positive</td>\n",
       "    </tr>\n",
       "    <tr>\n",
       "      <th>17</th>\n",
       "      <td>joy</td>\n",
       "      <td>I have a feeling i will fail french #fuckfrench</td>\n",
       "      <td>Negative</td>\n",
       "    </tr>\n",
       "    <tr>\n",
       "      <th>18</th>\n",
       "      <td>joy</td>\n",
       "      <td>Good.Let ' s go now .</td>\n",
       "      <td>Neutral</td>\n",
       "    </tr>\n",
       "    <tr>\n",
       "      <th>19</th>\n",
       "      <td>surprise</td>\n",
       "      <td>@JuliaLeader I reeeeeellllyyyyyyy need to tell...</td>\n",
       "      <td>Negative</td>\n",
       "    </tr>\n",
       "    <tr>\n",
       "      <th>20</th>\n",
       "      <td>sadness</td>\n",
       "      <td>Oh , that's too bad . Should I call a doctor ?</td>\n",
       "      <td>Negative</td>\n",
       "    </tr>\n",
       "    <tr>\n",
       "      <th>21</th>\n",
       "      <td>joy</td>\n",
       "      <td>When I fell in love with \\X\\\".  Overnight I fe...</td>\n",
       "      <td>Positive</td>\n",
       "    </tr>\n",
       "    <tr>\n",
       "      <th>22</th>\n",
       "      <td>fear</td>\n",
       "      <td>is a primitive #Instinct that's your friend.It...</td>\n",
       "      <td>Neutral</td>\n",
       "    </tr>\n",
       "    <tr>\n",
       "      <th>23</th>\n",
       "      <td>anger</td>\n",
       "      <td>I have to talk to you !</td>\n",
       "      <td>Neutral</td>\n",
       "    </tr>\n",
       "    <tr>\n",
       "      <th>24</th>\n",
       "      <td>fear</td>\n",
       "      <td>I was riding with a friend in his car. At a sp...</td>\n",
       "      <td>Positive</td>\n",
       "    </tr>\n",
       "  </tbody>\n",
       "</table>\n",
       "</div>"
      ],
      "text/plain": [
       "     Emotion                                               Text Sentiment\n",
       "0    neutral                                             Why ?    Neutral\n",
       "1        joy    Sage Act upgrade on my to do list for tommorow.   Neutral\n",
       "2    sadness  ON THE WAY TO MY HOMEGIRL BABY FUNERAL!!! MAN ...  Negative\n",
       "3        joy   Such an eye ! The true hazel eye-and so brill...  Positive\n",
       "4        joy  @Iluvmiasantos ugh babe.. hugggzzz for u .!  b...   Neutral\n",
       "5       fear  I'm expecting an extremely important phonecall...  Positive\n",
       "6    sadness   .Couldnt wait to see them live. If missing th...  Negative\n",
       "7   surprise  maken Tip 2: Stop op een moment dat je het hel...   Neutral\n",
       "8   surprise  En dan krijg je ff een cadeautje van een tweep...   Neutral\n",
       "9   surprise   @1116am Drummer Boy bij op verzoek van @BiemO...   Neutral\n",
       "10     anger  The bull tossed the effigy out of their hands ...  Positive\n",
       "11   sadness            People hide their behind a #fake smile.  Negative\n",
       "12       joy  For once in his life , Leopold must have been ...  Positive\n",
       "13      fear  Against the assault of laughter nothing can st...   Neutral\n",
       "14     anger   With everything , with everybody , with all t...   Neutral\n",
       "15   sadness  Shakuhachi dress $580,  10-22 mm lens $708 #pa...  Negative\n",
       "16  surprise  Haha of course I come home to a different hous...  Positive\n",
       "17       joy    I have a feeling i will fail french #fuckfrench  Negative\n",
       "18       joy                             Good.Let ' s go now .    Neutral\n",
       "19  surprise  @JuliaLeader I reeeeeellllyyyyyyy need to tell...  Negative\n",
       "20   sadness    Oh , that's too bad . Should I call a doctor ?   Negative\n",
       "21       joy  When I fell in love with \\X\\\".  Overnight I fe...  Positive\n",
       "22      fear  is a primitive #Instinct that's your friend.It...   Neutral\n",
       "23     anger                           I have to talk to you !    Neutral\n",
       "24      fear  I was riding with a friend in his car. At a sp...  Positive"
      ]
     },
     "execution_count": 23,
     "metadata": {},
     "output_type": "execute_result"
    }
   ],
   "source": [
    "df['Sentiment']=df['Text'].apply(get_sentiment)\n",
    "df.head(25)"
   ]
  },
  {
   "cell_type": "code",
   "execution_count": 27,
   "id": "2012678b-50f4-48f8-af89-04d69928e6c7",
   "metadata": {},
   "outputs": [
    {
     "data": {
      "text/plain": [
       "Emotion   Sentiment\n",
       "anger     Negative     1787\n",
       "          Neutral      1386\n",
       "          Positive     1124\n",
       "disgust   Negative      324\n",
       "          Neutral       251\n",
       "          Positive      281\n",
       "fear      Negative     1534\n",
       "          Neutral      1844\n",
       "          Positive     2032\n",
       "joy       Negative     1682\n",
       "          Neutral      3649\n",
       "          Positive     5714\n",
       "neutral   Negative      178\n",
       "          Neutral      1523\n",
       "          Positive      553\n",
       "sadness   Negative     2629\n",
       "          Neutral      2128\n",
       "          Positive     1965\n",
       "shame     Negative       46\n",
       "          Neutral        50\n",
       "          Positive       50\n",
       "surprise  Negative      623\n",
       "          Neutral      1545\n",
       "          Positive     1894\n",
       "dtype: int64"
      ]
     },
     "execution_count": 27,
     "metadata": {},
     "output_type": "execute_result"
    }
   ],
   "source": [
    "df.groupby(['Emotion','Sentiment']).size()"
   ]
  },
  {
   "cell_type": "code",
   "execution_count": null,
   "id": "71df5f27-c203-4585-82d9-b329acd25fb0",
   "metadata": {},
   "outputs": [],
   "source": []
  },
  {
   "cell_type": "code",
   "execution_count": 26,
   "id": "d9aa1dd7-1c19-4c6f-a2e1-c6d99c47ab5c",
   "metadata": {},
   "outputs": [
    {
     "data": {
      "text/plain": [
       "Text(0.5, 1.0, 'PRDICTED EMOTION')"
      ]
     },
     "execution_count": 26,
     "metadata": {},
     "output_type": "execute_result"
    },
    {
     "data": {
      "image/png": "[encoded data removed]",
      "text/plain": [
       "<Figure size 1012.5x600 with 1 Axes>"
      ]
     },
     "metadata": {},
     "output_type": "display_data"
    }
   ],
   "source": [
    "sns.catplot(x='Emotion',hue='Sentiment', data = df,kind='count',height=6,aspect=1.5)\n",
    "plt.title('PRDICTED EMOTION')"
   ]
  },
  {
   "cell_type": "code",
   "execution_count": 28,
   "id": "2ceb35ec-11e5-4209-b859-51e13ee4ea2a",
   "metadata": {},
   "outputs": [
    {
     "data": {
      "text/plain": [
       "0                                                   Why ? \n",
       "1          Sage Act upgrade on my to do list for tommorow.\n",
       "2        ON THE WAY TO MY HOMEGIRL BABY FUNERAL!!! MAN ...\n",
       "3         Such an eye ! The true hazel eye-and so brill...\n",
       "4        @Iluvmiasantos ugh babe.. hugggzzz for u .!  b...\n",
       "                               ...                        \n",
       "34787    @MichelGW have you gift! Hope you like it! It'...\n",
       "34788    The world didnt give it to me..so the world MO...\n",
       "34789                             A man robbed me today . \n",
       "34790    Youu call it JEALOUSY, I call it of #Losing YO...\n",
       "34791    I think about you baby, and I dream about you ...\n",
       "Name: Text, Length: 34792, dtype: object"
      ]
     },
     "execution_count": 28,
     "metadata": {},
     "output_type": "execute_result"
    }
   ],
   "source": [
    "df['Text']"
   ]
  },
  {
   "cell_type": "code",
   "execution_count": 30,
   "id": "2186b83e-5bbf-4bd8-b495-2c7b484ba60b",
   "metadata": {},
   "outputs": [],
   "source": [
    "df['Clean_text']=df['Text'].apply(nfx.remove_stopwords)\n",
    "df['Clean_text']=df['Text'].apply(nfx.remove_punctuations   )\n",
    "df['Clean_text']=df['Text'].apply(nfx.remove_userhandles )\n",
    "#df['Clean_text']=df['Text'].apply(nfx.remove_stopwords)\n"
   ]
  },
  {
   "cell_type": "code",
   "execution_count": 33,
   "id": "9938b1e5-ab49-4517-83ff-0265b827d980",
   "metadata": {},
   "outputs": [
    {
     "data": {
      "text/html": [
       "<div>\n",
       "<style scoped>\n",
       "    .dataframe tbody tr th:only-of-type {\n",
       "        vertical-align: middle;\n",
       "    }\n",
       "\n",
       "    .dataframe tbody tr th {\n",
       "        vertical-align: top;\n",
       "    }\n",
       "\n",
       "    .dataframe thead th {\n",
       "        text-align: right;\n",
       "    }\n",
       "</style>\n",
       "<table border=\"1\" class=\"dataframe\">\n",
       "  <thead>\n",
       "    <tr style=\"text-align: right;\">\n",
       "      <th></th>\n",
       "      <th>Text</th>\n",
       "      <th>Clean_text</th>\n",
       "    </tr>\n",
       "  </thead>\n",
       "  <tbody>\n",
       "    <tr>\n",
       "      <th>0</th>\n",
       "      <td>Why ?</td>\n",
       "      <td>Why ?</td>\n",
       "    </tr>\n",
       "    <tr>\n",
       "      <th>1</th>\n",
       "      <td>Sage Act upgrade on my to do list for tommorow.</td>\n",
       "      <td>Sage Act upgrade on my to do list for tommorow.</td>\n",
       "    </tr>\n",
       "    <tr>\n",
       "      <th>2</th>\n",
       "      <td>ON THE WAY TO MY HOMEGIRL BABY FUNERAL!!! MAN ...</td>\n",
       "      <td>ON THE WAY TO MY HOMEGIRL BABY FUNERAL!!! MAN ...</td>\n",
       "    </tr>\n",
       "    <tr>\n",
       "      <th>3</th>\n",
       "      <td>Such an eye ! The true hazel eye-and so brill...</td>\n",
       "      <td>Such an eye ! The true hazel eye-and so brill...</td>\n",
       "    </tr>\n",
       "    <tr>\n",
       "      <th>4</th>\n",
       "      <td>@Iluvmiasantos ugh babe.. hugggzzz for u .!  b...</td>\n",
       "      <td>ugh babe.. hugggzzz for u .!  babe naamazed ...</td>\n",
       "    </tr>\n",
       "    <tr>\n",
       "      <th>...</th>\n",
       "      <td>...</td>\n",
       "      <td>...</td>\n",
       "    </tr>\n",
       "    <tr>\n",
       "      <th>34787</th>\n",
       "      <td>@MichelGW have you gift! Hope you like it! It'...</td>\n",
       "      <td>have you gift! Hope you like it! It's hand m...</td>\n",
       "    </tr>\n",
       "    <tr>\n",
       "      <th>34788</th>\n",
       "      <td>The world didnt give it to me..so the world MO...</td>\n",
       "      <td>The world didnt give it to me..so the world MO...</td>\n",
       "    </tr>\n",
       "    <tr>\n",
       "      <th>34789</th>\n",
       "      <td>A man robbed me today .</td>\n",
       "      <td>A man robbed me today .</td>\n",
       "    </tr>\n",
       "    <tr>\n",
       "      <th>34790</th>\n",
       "      <td>Youu call it JEALOUSY, I call it of #Losing YO...</td>\n",
       "      <td>Youu call it JEALOUSY, I call it of #Losing YO...</td>\n",
       "    </tr>\n",
       "    <tr>\n",
       "      <th>34791</th>\n",
       "      <td>I think about you baby, and I dream about you ...</td>\n",
       "      <td>I think about you baby, and I dream about you ...</td>\n",
       "    </tr>\n",
       "  </tbody>\n",
       "</table>\n",
       "<p>34792 rows × 2 columns</p>\n",
       "</div>"
      ],
      "text/plain": [
       "                                                    Text  \\\n",
       "0                                                 Why ?    \n",
       "1        Sage Act upgrade on my to do list for tommorow.   \n",
       "2      ON THE WAY TO MY HOMEGIRL BABY FUNERAL!!! MAN ...   \n",
       "3       Such an eye ! The true hazel eye-and so brill...   \n",
       "4      @Iluvmiasantos ugh babe.. hugggzzz for u .!  b...   \n",
       "...                                                  ...   \n",
       "34787  @MichelGW have you gift! Hope you like it! It'...   \n",
       "34788  The world didnt give it to me..so the world MO...   \n",
       "34789                           A man robbed me today .    \n",
       "34790  Youu call it JEALOUSY, I call it of #Losing YO...   \n",
       "34791  I think about you baby, and I dream about you ...   \n",
       "\n",
       "                                              Clean_text  \n",
       "0                                                 Why ?   \n",
       "1        Sage Act upgrade on my to do list for tommorow.  \n",
       "2      ON THE WAY TO MY HOMEGIRL BABY FUNERAL!!! MAN ...  \n",
       "3       Such an eye ! The true hazel eye-and so brill...  \n",
       "4        ugh babe.. hugggzzz for u .!  babe naamazed ...  \n",
       "...                                                  ...  \n",
       "34787    have you gift! Hope you like it! It's hand m...  \n",
       "34788  The world didnt give it to me..so the world MO...  \n",
       "34789                           A man robbed me today .   \n",
       "34790  Youu call it JEALOUSY, I call it of #Losing YO...  \n",
       "34791  I think about you baby, and I dream about you ...  \n",
       "\n",
       "[34792 rows x 2 columns]"
      ]
     },
     "execution_count": 33,
     "metadata": {},
     "output_type": "execute_result"
    }
   ],
   "source": [
    "df[['Text','Clean_text']]"
   ]
  },
  {
   "cell_type": "code",
   "execution_count": 35,
   "id": "a9197337-de1f-438c-83d2-178f5e12f3e1",
   "metadata": {},
   "outputs": [],
   "source": [
    "from collections import Counter"
   ]
  },
  {
   "cell_type": "code",
   "execution_count": 36,
   "id": "28a43ebb-4d47-417c-bb9d-ba53379e5a2c",
   "metadata": {},
   "outputs": [],
   "source": [
    "def extract_keywords(text,num=50):\n",
    "    tokens=[tok for tok in text.split()]\n",
    "    most_common_tokens=Counter(tokens).most_common_tokens(num)\n",
    "    return dict(most_common_tokens)"
   ]
  },
  {
   "cell_type": "code",
   "execution_count": 37,
   "id": "da1d1a69-ccb7-482e-b5a5-d01f3a8b7831",
   "metadata": {},
   "outputs": [],
   "source": [
    "emotion_list=df['Emotion'].unique().tolist()"
   ]
  },
  {
   "cell_type": "code",
   "execution_count": 38,
   "id": "4cf8932b-9dce-498c-97a3-721576c65b71",
   "metadata": {},
   "outputs": [
    {
     "data": {
      "text/plain": [
       "['neutral', 'joy', 'sadness', 'fear', 'surprise', 'anger', 'shame', 'disgust']"
      ]
     },
     "execution_count": 38,
     "metadata": {},
     "output_type": "execute_result"
    }
   ],
   "source": [
    "emotion_list"
   ]
  },
  {
   "cell_type": "code",
   "execution_count": 40,
   "id": "0eeee548-e5c0-403f-94d7-a292a0e1b04b",
   "metadata": {},
   "outputs": [
    {
     "name": "stdout",
     "output_type": "stream",
     "text": [
      "Collecting wordcloud\n",
      "  Downloading wordcloud-1.9.4-cp311-cp311-win_amd64.whl.metadata (3.5 kB)\n",
      "Requirement already satisfied: numpy>=1.6.1 in c:\\users\\student\\anaconda3\\lib\\site-packages (from wordcloud) (1.26.4)\n",
      "Requirement already satisfied: pillow in c:\\users\\student\\anaconda3\\lib\\site-packages (from wordcloud) (10.2.0)\n",
      "Requirement already satisfied: matplotlib in c:\\users\\student\\anaconda3\\lib\\site-packages (from wordcloud) (3.8.0)\n",
      "Requirement already satisfied: contourpy>=1.0.1 in c:\\users\\student\\anaconda3\\lib\\site-packages (from matplotlib->wordcloud) (1.2.0)\n",
      "Requirement already satisfied: cycler>=0.10 in c:\\users\\student\\anaconda3\\lib\\site-packages (from matplotlib->wordcloud) (0.11.0)\n",
      "Requirement already satisfied: fonttools>=4.22.0 in c:\\users\\student\\anaconda3\\lib\\site-packages (from matplotlib->wordcloud) (4.25.0)\n",
      "Requirement already satisfied: kiwisolver>=1.0.1 in c:\\users\\student\\anaconda3\\lib\\site-packages (from matplotlib->wordcloud) (1.4.4)\n",
      "Requirement already satisfied: packaging>=20.0 in c:\\users\\student\\anaconda3\\lib\\site-packages (from matplotlib->wordcloud) (23.1)\n",
      "Requirement already satisfied: pyparsing>=2.3.1 in c:\\users\\student\\anaconda3\\lib\\site-packages (from matplotlib->wordcloud) (3.0.9)\n",
      "Requirement already satisfied: python-dateutil>=2.7 in c:\\users\\student\\anaconda3\\lib\\site-packages (from matplotlib->wordcloud) (2.8.2)\n",
      "Requirement already satisfied: six>=1.5 in c:\\users\\student\\anaconda3\\lib\\site-packages (from python-dateutil>=2.7->matplotlib->wordcloud) (1.16.0)\n",
      "Downloading wordcloud-1.9.4-cp311-cp311-win_amd64.whl (299 kB)\n",
      "   ---------------------------------------- 0.0/299.9 kB ? eta -:--:--\n",
      "   ---------------------------------------- 0.0/299.9 kB ? eta -:--:--\n",
      "   ---------------------------------------- 0.0/299.9 kB ? eta -:--:--\n",
      "   ---------------------------------------- 0.0/299.9 kB ? eta -:--:--\n",
      "   - -------------------------------------- 10.2/299.9 kB ? eta -:--:--\n",
      "   - -------------------------------------- 10.2/299.9 kB ? eta -:--:--\n",
      "   --- ----------------------------------- 30.7/299.9 kB 262.6 kB/s eta 0:00:02\n",
      "   --- ----------------------------------- 30.7/299.9 kB 262.6 kB/s eta 0:00:02\n",
      "   --- ----------------------------------- 30.7/299.9 kB 262.6 kB/s eta 0:00:02\n",
      "   --- ----------------------------------- 30.7/299.9 kB 262.6 kB/s eta 0:00:02\n",
      "   --- ----------------------------------- 30.7/299.9 kB 262.6 kB/s eta 0:00:02\n",
      "   --- ----------------------------------- 30.7/299.9 kB 262.6 kB/s eta 0:00:02\n",
      "   ----- ---------------------------------- 41.0/299.9 kB 89.3 kB/s eta 0:00:03\n",
      "   ----- ---------------------------------- 41.0/299.9 kB 89.3 kB/s eta 0:00:03\n",
      "   ------- ------------------------------- 61.4/299.9 kB 113.0 kB/s eta 0:00:03\n",
      "   ------- ------------------------------- 61.4/299.9 kB 113.0 kB/s eta 0:00:03\n",
      "   ------- ------------------------------- 61.4/299.9 kB 113.0 kB/s eta 0:00:03\n",
      "   ------- ------------------------------- 61.4/299.9 kB 113.0 kB/s eta 0:00:03\n",
      "   ---------- ---------------------------- 81.9/299.9 kB 109.3 kB/s eta 0:00:02\n",
      "   ---------- ---------------------------- 81.9/299.9 kB 109.3 kB/s eta 0:00:02\n",
      "   ---------- ---------------------------- 81.9/299.9 kB 109.3 kB/s eta 0:00:02\n",
      "   ----------- --------------------------- 92.2/299.9 kB 102.8 kB/s eta 0:00:03\n",
      "   ----------- --------------------------- 92.2/299.9 kB 102.8 kB/s eta 0:00:03\n",
      "   ----------- --------------------------- 92.2/299.9 kB 102.8 kB/s eta 0:00:03\n",
      "   ----------- --------------------------- 92.2/299.9 kB 102.8 kB/s eta 0:00:03\n",
      "   ----------- --------------------------- 92.2/299.9 kB 102.8 kB/s eta 0:00:03\n",
      "   -------------- ----------------------- 112.6/299.9 kB 104.1 kB/s eta 0:00:02\n",
      "   -------------- ----------------------- 112.6/299.9 kB 104.1 kB/s eta 0:00:02\n",
      "   -------------- ----------------------- 112.6/299.9 kB 104.1 kB/s eta 0:00:02\n",
      "   --------------- ---------------------- 122.9/299.9 kB 100.1 kB/s eta 0:00:02\n",
      "   --------------- ---------------------- 122.9/299.9 kB 100.1 kB/s eta 0:00:02\n",
      "   ------------------ ------------------- 143.4/299.9 kB 106.5 kB/s eta 0:00:02\n",
      "   ------------------ ------------------- 143.4/299.9 kB 106.5 kB/s eta 0:00:02\n",
      "   -------------------- ----------------- 163.8/299.9 kB 113.0 kB/s eta 0:00:02\n",
      "   ---------------------- --------------- 174.1/299.9 kB 116.5 kB/s eta 0:00:02\n",
      "   ---------------------- --------------- 174.1/299.9 kB 116.5 kB/s eta 0:00:02\n",
      "   ---------------------- --------------- 174.1/299.9 kB 116.5 kB/s eta 0:00:02\n",
      "   ------------------------ ------------- 194.6/299.9 kB 118.0 kB/s eta 0:00:01\n",
      "   ------------------------ ------------- 194.6/299.9 kB 118.0 kB/s eta 0:00:01\n",
      "   ------------------------ ------------- 194.6/299.9 kB 118.0 kB/s eta 0:00:01\n",
      "   ------------------------ ------------- 194.6/299.9 kB 118.0 kB/s eta 0:00:01\n",
      "   ------------------------ ------------- 194.6/299.9 kB 118.0 kB/s eta 0:00:01\n",
      "   ------------------------- ------------ 204.8/299.9 kB 111.2 kB/s eta 0:00:01\n",
      "   ------------------------- ------------ 204.8/299.9 kB 111.2 kB/s eta 0:00:01\n",
      "   ------------------------- ------------ 204.8/299.9 kB 111.2 kB/s eta 0:00:01\n",
      "   ---------------------------- --------- 225.3/299.9 kB 111.0 kB/s eta 0:00:01\n",
      "   ---------------------------- --------- 225.3/299.9 kB 111.0 kB/s eta 0:00:01\n",
      "   ---------------------------- --------- 225.3/299.9 kB 111.0 kB/s eta 0:00:01\n",
      "   ---------------------------- --------- 225.3/299.9 kB 111.0 kB/s eta 0:00:01\n",
      "   ---------------------------- --------- 225.3/299.9 kB 111.0 kB/s eta 0:00:01\n",
      "   ------------------------------- ------ 245.8/299.9 kB 108.4 kB/s eta 0:00:01\n",
      "   ------------------------------- ------ 245.8/299.9 kB 108.4 kB/s eta 0:00:01\n",
      "   ------------------------------- ------ 245.8/299.9 kB 108.4 kB/s eta 0:00:01\n",
      "   ------------------------------- ------ 245.8/299.9 kB 108.4 kB/s eta 0:00:01\n",
      "   ------------------------------- ------ 245.8/299.9 kB 108.4 kB/s eta 0:00:01\n",
      "   ------------------------------- ------ 245.8/299.9 kB 108.4 kB/s eta 0:00:01\n",
      "   --------------------------------- ---- 266.2/299.9 kB 104.4 kB/s eta 0:00:01\n",
      "   --------------------------------- ---- 266.2/299.9 kB 104.4 kB/s eta 0:00:01\n",
      "   --------------------------------- ---- 266.2/299.9 kB 104.4 kB/s eta 0:00:01\n",
      "   --------------------------------- ---- 266.2/299.9 kB 104.4 kB/s eta 0:00:01\n",
      "   ------------------------------------ - 286.7/299.9 kB 105.3 kB/s eta 0:00:01\n",
      "   ------------------------------------ - 286.7/299.9 kB 105.3 kB/s eta 0:00:01\n",
      "   ------------------------------------ - 286.7/299.9 kB 105.3 kB/s eta 0:00:01\n",
      "   -------------------------------------- 299.9/299.9 kB 104.2 kB/s eta 0:00:00\n",
      "Installing collected packages: wordcloud\n",
      "Successfully installed wordcloud-1.9.4\n"
     ]
    }
   ],
   "source": [
    "!pip install wordcloud"
   ]
  },
  {
   "cell_type": "code",
   "execution_count": 41,
   "id": "c7747ad0-ef65-44d8-a6f6-ff0f627f0a35",
   "metadata": {},
   "outputs": [],
   "source": [
    "from wordcloud import WordCloud"
   ]
  },
  {
   "cell_type": "code",
   "execution_count": 44,
   "id": "1d9fb5f6-5256-4546-8c07-689eaee0d163",
   "metadata": {},
   "outputs": [],
   "source": [
    "def plot_cloud(docx):\n",
    "    myWC=WordCloud().generate(docx)\n",
    "    plt.figure(figsize=(20,10))\n",
    "    plt.imshow(myWC,interpolation='bilinear'  )\n",
    "    plt.axis('off')\n",
    "    plt.show()\n",
    "    "
   ]
  },
  {
   "cell_type": "code",
   "execution_count": 47,
   "id": "c1d94822-b3fb-4dca-b239-ad75413b2d8b",
   "metadata": {},
   "outputs": [
    {
     "ename": "NameError",
     "evalue": "name 'joy_docx' is not defined",
     "output_type": "error",
     "traceback": [
      "\u001b[1;31m---------------------------------------------------------------------------\u001b[0m",
      "\u001b[1;31mNameError\u001b[0m                                 Traceback (most recent call last)",
      "Cell \u001b[1;32mIn[47], line 1\u001b[0m\n\u001b[1;32m----> 1\u001b[0m plot_cloud(joy_docx)\n",
      "\u001b[1;31mNameError\u001b[0m: name 'joy_docx' is not defined"
     ]
    }
   ],
   "source": [
    "plot_cloud(joy_docx)"
   ]
  },
  {
   "cell_type": "code",
   "execution_count": null,
   "id": "3ed7db5b-e0f5-40fe-81fc-9bf7e7a52a13",
   "metadata": {},
   "outputs": [],
   "source": []
  },
  {
   "cell_type": "code",
   "execution_count": null,
   "id": "4c8b6a84-3fed-429e-93d9-c6606c1e35a5",
   "metadata": {},
   "outputs": [],
   "source": []
  },
  {
   "cell_type": "code",
   "execution_count": null,
   "id": "b97944b1-089d-489e-8752-d3a9df70699a",
   "metadata": {},
   "outputs": [],
   "source": []
  },
  {
   "cell_type": "code",
   "execution_count": null,
   "id": "4391f6af-856b-4c7c-b8b6-81aa2b634513",
   "metadata": {},
   "outputs": [],
   "source": []
  },
  {
   "cell_type": "code",
   "execution_count": null,
   "id": "47cb0eee-3e05-4300-8044-632a99e93ef4",
   "metadata": {},
   "outputs": [],
   "source": []
  }
 ],
 "metadata": {
  "kernelspec": {
   "display_name": "Python 3 (ipykernel)",
   "language": "python",
   "name": "python3"
  },
  "language_info": {
   "codemirror_mode": {
    "name": "ipython",
    "version": 3
   },
   "file_extension": ".py",
   "mimetype": "text/x-python",
   "name": "python",
   "nbconvert_exporter": "python",
   "pygments_lexer": "ipython3",
   "version": "3.11.7"
  }
 },
 "nbformat": 4,
 "nbformat_minor": 5
}
